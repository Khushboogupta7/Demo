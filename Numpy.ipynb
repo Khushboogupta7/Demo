{
 "cells": [
  {
   "cell_type": "code",
   "execution_count": null,
   "metadata": {},
   "outputs": [],
   "source": [
    "#Numpy Numpy is the primary way to handle matrices and vectors in python.Numpy is the most popular python library for matrix/vector computations. \n",
    "#3.1.1 Importing numpy\n",
    "Numpy is typically imported as np:\n",
    "\n",
    "\n",
    "import numpy as np\n",
    "\n",
    "\n",
    "# 3.1.2 Array: The Fundamental Data Structure in Numpy\n",
    "For 1D Array \n",
    "    a = np.array([1,2,3,4])\n",
    "    print(\"a:\\n\", a)\n",
    "##  a:\n",
    "##  [1 2 3 4]   \n",
    "\n",
    "For 2D Array\n",
    "b = np.array([[1,2], [3,4]])\n",
    "print(\"b:\\n\", b)\n",
    "## b:\n",
    "##  [[1 2]\n",
    "##  [3 4]]\n",
    "\n",
    "# 01. Get Dimension\n",
    "a.ndim\n",
    "\n",
    "\n",
    "\n",
    "\n",
    "#tuple:\n",
    "\n",
    "a.shape\n",
    "## (4,)\n",
    "b.shape\n",
    "## (2, 2)\n",
    "\n",
    "#we can reshape the length-4 vector into a 2x2 matrix as\n",
    "\n",
    "a.reshape((2,2))\n",
    "## array([[1, 2],\n",
    "##        [3, 4]])\n",
    "# and we can “straighten” matrix b into a vector with\n",
    "\n",
    "b.reshape((4,))\n",
    "## array([1, 2, 3, 4])\n",
    "\n",
    "3.1.3 Creating Arrays\n",
    "\n",
    "np.arange(10)  # vector of length 10\n",
    "## array([0, 1, 2, 3, 4, 5, 6, 7, 8, 9])\n",
    "np.arange(10).reshape((2,5))  # 2x5 matrix\n",
    "## array([[0, 1, 2, 3, 4],\n",
    "##        [5, 6, 7, 8, 9]])\n",
    "np.zeros and np.ones create arrays filled with zeros and ones respectively:\n",
    "\n",
    "np.zeros((5,))\n",
    "## array([0., 0., 0., 0., 0.])\n",
    "np.ones((2,4))\n",
    "## array([[1., 1., 1., 1.],\n",
    "##        [1., 1., 1., 1.]])\n",
    "\n"
   ]
  },
  {
   "cell_type": "code",
   "execution_count": null,
   "metadata": {},
   "outputs": [],
   "source": [
    "# get dimension"
   ]
  },
  {
   "cell_type": "code",
   "execution_count": null,
   "metadata": {},
   "outputs": [],
   "source": [
    "a.ndim"
   ]
  },
  {
   "cell_type": "code",
   "execution_count": null,
   "metadata": {},
   "outputs": [],
   "source": []
  }
 ],
 "metadata": {
  "language_info": {
   "name": "python"
  }
 },
 "nbformat": 4,
 "nbformat_minor": 2
}
