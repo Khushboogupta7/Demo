{
 "cells": [
  {
   "cell_type": "code",
   "execution_count": null,
   "metadata": {},
   "outputs": [],
   "source": [
    "#01. Importing Libraries\n",
    "import pandas as pandas\n",
    "import matplotlib.pyplot as plt\n",
    "import seaborn as sns\n",
    "import warnings\n",
    "warning.filterwarnings('ignore')\n",
    "\n",
    "#02. Loading the dataset\n",
    "df = pd.read_csv('\"C:\\Users\\ravi.LAPTOP-PNJ7ESH6\\Downloads\\hotel_bookings 2.csv\"')\n",
    "df = pd.read_csv('hotel_bookings 2.csv')\n",
    "\n",
    "\n",
    "#03. Exploratory Data Analysis and Data Cleaning\n",
    "# head/first 5\n",
    "df.head()\n",
    "#returns top 5 rows \n",
    "\n",
    "#tail/last 5\n",
    "df.head()\n",
    "\n",
    "#04. No. of rows and colummns in dataset\n",
    "df.shape\n",
    "\n",
    "\n"
   ]
  }
 ],
 "metadata": {
  "language_info": {
   "name": "python"
  }
 },
 "nbformat": 4,
 "nbformat_minor": 2
}
